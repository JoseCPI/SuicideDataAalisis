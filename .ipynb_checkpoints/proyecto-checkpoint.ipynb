{
 "cells": [
  {
   "cell_type": "markdown",
   "metadata": {},
   "source": [
    "# Taza de Suicidios\n",
    "#### Jose Carlos Pimienta Ibarra"
   ]
  },
  {
   "cell_type": "markdown",
   "metadata": {},
   "source": [
    "En este proyecto se evaluara informacion sobre informacion de suicidios por pais desde 1985 a 2016. Esta informacion el cual fue encontrado en kaggle fue recopilado desde distintos sitios, los cuales incluyen el banco mundial, la organizacion mundial de la salud entre otros."
   ]
  },
  {
   "cell_type": "markdown",
   "metadata": {},
   "source": [
    "El dataset incluye las sigueinte columnas:\n",
    "- País\n",
    "- Año\n",
    "- Sexo\n",
    "- Edad\n",
    "- Número de suicidios\n",
    "- Población\n",
    "- Suicidos por cada 100,000 habitantes\n",
    "- Pais-Año\n",
    "- Índice de desarrollo humano por año\n",
    "- Producto Interno Bruto por año (PIB)\n",
    "- PIB per capita\n",
    "- Generación\n",
    "    "
   ]
  },
  {
   "cell_type": "code",
   "execution_count": null,
   "metadata": {
    "collapsed": true
   },
   "outputs": [],
   "source": [
    "#Importamos la libreria de pandas con la \n",
    "import pandas as pd"
   ]
  }
 ],
 "metadata": {
  "kernelspec": {
   "display_name": "Python 3",
   "language": "python",
   "name": "python3"
  },
  "language_info": {
   "codemirror_mode": {
    "name": "ipython",
    "version": 3
   },
   "file_extension": ".py",
   "mimetype": "text/x-python",
   "name": "python",
   "nbconvert_exporter": "python",
   "pygments_lexer": "ipython3",
   "version": "3.6.8"
  }
 },
 "nbformat": 4,
 "nbformat_minor": 2
}
